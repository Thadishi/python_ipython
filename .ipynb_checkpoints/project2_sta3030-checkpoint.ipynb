{
 "cells": [
  {
   "cell_type": "code",
   "execution_count": 49,
   "metadata": {
    "collapsed": true
   },
   "outputs": [],
   "source": [
    "import numpy as np, pandas as pd, matplotlib.pyplot as plt, csv, matplotlib.mlab as ml\n",
    "%matplotlib inline\n",
    "import scipy.stats as stat\n",
    "import timeit"
   ]
  },
  {
   "cell_type": "code",
   "execution_count": 50,
   "metadata": {
    "collapsed": true
   },
   "outputs": [],
   "source": [
    "bristol_86 = np.genfromtxt(\"Bristol_86.csv\",delimiter=\",\", skip_header=1)"
   ]
  },
  {
   "cell_type": "markdown",
   "metadata": {},
   "source": [
    "We are now goign to do the exploratory analysis"
   ]
  },
  {
   "cell_type": "code",
   "execution_count": 51,
   "metadata": {
    "collapsed": true
   },
   "outputs": [],
   "source": [
    "After =bristol_86[:,1]\n",
    "Before = bristol_86[:,0]\n",
    "\n",
    "difference = Before - After\n",
    "\n",
    "BeMean = Before.mean()\n",
    "AfMean = After.mean()\n",
    "diffMean = difference.mean()\n",
    "BeSTD = Before.std()\n",
    "AfSTD = After.std()\n",
    "diffSTD = difference.std()\n"
   ]
  },
  {
   "cell_type": "markdown",
   "metadata": {},
   "source": [
    "Now we are going to plot a histogram of the difference"
   ]
  },
  {
   "cell_type": "code",
   "execution_count": 52,
   "metadata": {},
   "outputs": [
    {
     "data": {
      "text/plain": [
       "12.49"
      ]
     },
     "execution_count": 52,
     "metadata": {},
     "output_type": "execute_result"
    }
   ],
   "source": [
    "BeMean"
   ]
  },
  {
   "cell_type": "code",
   "execution_count": 53,
   "metadata": {},
   "outputs": [
    {
     "data": {
      "text/plain": [
       "11.949999999999999"
      ]
     },
     "execution_count": 53,
     "metadata": {},
     "output_type": "execute_result"
    }
   ],
   "source": [
    "AfMean"
   ]
  },
  {
   "cell_type": "code",
   "execution_count": 54,
   "metadata": {},
   "outputs": [
    {
     "data": {
      "text/plain": [
       "0.54000000000000004"
      ]
     },
     "execution_count": 54,
     "metadata": {},
     "output_type": "execute_result"
    }
   ],
   "source": [
    "diffMean"
   ]
  },
  {
   "cell_type": "code",
   "execution_count": 55,
   "metadata": {},
   "outputs": [
    {
     "data": {
      "text/plain": [
       "1.5977797094718658"
      ]
     },
     "execution_count": 55,
     "metadata": {},
     "output_type": "execute_result"
    }
   ],
   "source": [
    "BeSTD"
   ]
  },
  {
   "cell_type": "code",
   "execution_count": 56,
   "metadata": {},
   "outputs": [
    {
     "data": {
      "text/plain": [
       "1.8575521526998913"
      ]
     },
     "execution_count": 56,
     "metadata": {},
     "output_type": "execute_result"
    }
   ],
   "source": [
    "AfSTD"
   ]
  },
  {
   "cell_type": "code",
   "execution_count": 57,
   "metadata": {},
   "outputs": [
    {
     "data": {
      "text/plain": [
       "0.96353515763567288"
      ]
     },
     "execution_count": 57,
     "metadata": {},
     "output_type": "execute_result"
    }
   ],
   "source": [
    "diffSTD"
   ]
  },
  {
   "cell_type": "code",
   "execution_count": 58,
   "metadata": {},
   "outputs": [
    {
     "data": {
      "text/plain": [
       "Text(0,0.5,'Dope')"
      ]
     },
     "execution_count": 58,
     "metadata": {},
     "output_type": "execute_result"
    },
    {
     "data": {
      "image/png": "[encoded data removed]",
      "text/plain": [
       "<matplotlib.figure.Figure at 0x106650908>"
      ]
     },
     "metadata": {},
     "output_type": "display_data"
    }
   ],
   "source": [
    "plt.hist(difference)\n",
    "plt.title(\"Differences in Bristol\")\n",
    "plt.xlabel(\"whatever this is\")\n",
    "plt.ylabel(\"Dope\")\n",
    "\n",
    "#fig = plt.gcf()"
   ]
  },
  {
   "cell_type": "markdown",
   "metadata": {},
   "source": [
    "paired t-test based on collected data"
   ]
  },
  {
   "cell_type": "code",
   "execution_count": 59,
   "metadata": {
    "collapsed": true
   },
   "outputs": [],
   "source": [
    "Obsdiff = diffMean\n",
    "\n",
    "stanError = diffSTD/np.sqrt(len(difference))\n",
    "\n",
    "t_stat = (diffMean-0)/stanError\n",
    "\n",
    "p_val = stat.t.sf(np.abs(t_stat), len(difference)-1)"
   ]
  },
  {
   "cell_type": "code",
   "execution_count": 60,
   "metadata": {},
   "outputs": [
    {
     "data": {
      "text/plain": [
       "0.05505706597077132"
      ]
     },
     "execution_count": 60,
     "metadata": {},
     "output_type": "execute_result"
    }
   ],
   "source": [
    "p_val"
   ]
  },
  {
   "cell_type": "markdown",
   "metadata": {},
   "source": [
    "We are now showing boxplots"
   ]
  },
  {
   "cell_type": "code",
   "execution_count": 61,
   "metadata": {},
   "outputs": [
    {
     "data": {
      "text/plain": [
       "{'boxes': [<matplotlib.lines.Line2D at 0x104702c50>,\n",
       "  <matplotlib.lines.Line2D at 0x104716748>],\n",
       " 'caps': [<matplotlib.lines.Line2D at 0x10470e6a0>,\n",
       "  <matplotlib.lines.Line2D at 0x10470eac8>,\n",
       "  <matplotlib.lines.Line2D at 0x104720438>,\n",
       "  <matplotlib.lines.Line2D at 0x104720860>],\n",
       " 'fliers': [<matplotlib.lines.Line2D at 0x104716358>,\n",
       "  <matplotlib.lines.Line2D at 0x1047270f0>],\n",
       " 'means': [],\n",
       " 'medians': [<matplotlib.lines.Line2D at 0x10470eef0>,\n",
       "  <matplotlib.lines.Line2D at 0x104720c88>],\n",
       " 'whiskers': [<matplotlib.lines.Line2D at 0x104702da0>,\n",
       "  <matplotlib.lines.Line2D at 0x10470e278>,\n",
       "  <matplotlib.lines.Line2D at 0x104716ba8>,\n",
       "  <matplotlib.lines.Line2D at 0x104716fd0>]}"
      ]
     },
     "execution_count": 61,
     "metadata": {},
     "output_type": "execute_result"
    },
    {
     "data": {
      "image/png": "[encoded data removed]",
      "text/plain": [
       "<matplotlib.figure.Figure at 0x1046b0438>"
      ]
     },
     "metadata": {},
     "output_type": "display_data"
    }
   ],
   "source": [
    "plt.boxplot(bristol_86)"
   ]
  },
  {
   "cell_type": "markdown",
   "metadata": {},
   "source": [
    "The main event of bootstrapping begins"
   ]
  },
  {
   "cell_type": "code",
   "execution_count": 62,
   "metadata": {
    "collapsed": true
   },
   "outputs": [],
   "source": [
    "bodily = np.random.choice(difference, 10)"
   ]
  },
  {
   "cell_type": "code",
   "execution_count": 63,
   "metadata": {
    "collapsed": true
   },
   "outputs": [],
   "source": [
    "##bootstrap\n",
    "\n",
    "def bootstrapping(data, totalSamples, output):\n",
    "    for i in range(1,totalSamples):\n",
    "        bodily = np.random.choice(data, len(data))\n",
    "        standErring =np.std(bodily)/np.sqrt(len(bodily))\n",
    "        tStat = np.mean(bodily)/standErring\n",
    "        \n",
    "        output.append(tStat)\n",
    "    return (output)"
   ]
  },
  {
   "cell_type": "code",
   "execution_count": 64,
   "metadata": {},
   "outputs": [
    {
     "name": "stdout",
     "output_type": "stream",
     "text": [
      "-0.025635201999648416\n"
     ]
    },
    {
     "data": {
      "image/png": "[encoded data removed]",
      "text/plain": [
       "<matplotlib.figure.Figure at 0x1a13f8c898>"
      ]
     },
     "metadata": {},
     "output_type": "display_data"
    }
   ],
   "source": [
    "start = timeit.timeit()\n",
    "theHistogram = plt.hist(bootstrapping(difference,100000,[]), bins=50)\n",
    "\n",
    "print (timeit.timeit() - start)"
   ]
  },
  {
   "cell_type": "markdown",
   "metadata": {},
   "source": [
    "The mean is normal for 100000 bootstrapped samples."
   ]
  },
  {
   "cell_type": "code",
   "execution_count": 65,
   "metadata": {
    "collapsed": true
   },
   "outputs": [],
   "source": [
    "summing =0\n",
    "p_val = stat.t.sf(np.abs(t_stat), len(difference)-1)\n",
    "def p_value(output):\n",
    "    for i in range(0,len(output)):\n",
    "        if output[i]> abs(p_val):\n",
    "            ++summing\n",
    "    return (summing/len(output))"
   ]
  },
  {
   "cell_type": "code",
   "execution_count": 66,
   "metadata": {},
   "outputs": [
    {
     "name": "stdout",
     "output_type": "stream",
     "text": [
      "0.0\n"
     ]
    }
   ],
   "source": [
    "outing = bootstrapping(difference, 10000,[])\n",
    "print(p_value(outing))"
   ]
  },
  {
   "cell_type": "markdown",
   "metadata": {
    "collapsed": true
   },
   "source": [
    "Teh sampling errors and bias"
   ]
  },
  {
   "cell_type": "code",
   "execution_count": 67,
   "metadata": {
    "collapsed": true
   },
   "outputs": [],
   "source": [
    "np.std(outing)\n",
    "\n",
    "##The bias\n",
    "_bias = np.mean(outing)- diffMean\n",
    "\n",
    "##corrected bias\n",
    "\n",
    "corrBias = diffMean - _bias"
   ]
  },
  {
   "cell_type": "code",
   "execution_count": 68,
   "metadata": {},
   "outputs": [
    {
     "name": "stdout",
     "output_type": "stream",
     "text": [
      "1.63899638015\n",
      "-1.09899638015\n"
     ]
    }
   ],
   "source": [
    "print(_bias)\n",
    "print(corrBias)"
   ]
  },
  {
   "cell_type": "code",
   "execution_count": null,
   "metadata": {
    "collapsed": true
   },
   "outputs": [],
   "source": []
  }
 ],
 "metadata": {
  "kernelspec": {
   "display_name": "Python 3",
   "language": "python",
   "name": "python3"
  },
  "language_info": {
   "codemirror_mode": {
    "name": "ipython",
    "version": 3
   },
   "file_extension": ".py",
   "mimetype": "text/x-python",
   "name": "python",
   "nbconvert_exporter": "python",
   "pygments_lexer": "ipython3",
   "version": "3.6.3"
  }
 },
 "nbformat": 4,
 "nbformat_minor": 2
}
