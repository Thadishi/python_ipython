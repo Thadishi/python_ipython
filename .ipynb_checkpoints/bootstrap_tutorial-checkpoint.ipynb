{
 "cells": [
  {
   "cell_type": "code",
   "execution_count": 2,
   "metadata": {
    "collapsed": true
   },
   "outputs": [],
   "source": [
    "import glob, matplotlib.pyplot as plt, numpy as np, pandas as pd\n",
    "%matplotlib inline\n",
    "%precision 4\n",
    "plt.style.use('ggplot')"
   ]
  },
  {
   "cell_type": "code",
   "execution_count": 3,
   "metadata": {
    "collapsed": true
   },
   "outputs": [],
   "source": [
    "np.set_printoptions(formatter={'float':lambda x: '%.3f' %x})"
   ]
  },
  {
   "cell_type": "code",
   "execution_count": 10,
   "metadata": {},
   "outputs": [],
   "source": [
    "np.random.seed(123)"
   ]
  },
  {
   "cell_type": "code",
   "execution_count": 11,
   "metadata": {},
   "outputs": [
    {
     "data": {
      "text/plain": [
       "array([2, 1, 2, 2, 0, 2, 2, 1, 3, 2, 3, 1])"
      ]
     },
     "execution_count": 11,
     "metadata": {},
     "output_type": "execute_result"
    }
   ],
   "source": [
    "#sampling is done with replacement by default\n",
    "np.random.choice(4,12)"
   ]
  },
  {
   "cell_type": "code",
   "execution_count": 12,
   "metadata": {},
   "outputs": [
    {
     "data": {
      "text/plain": [
       "array([3, 3, 1, 0, 0, 3, 1, 0, 0, 3, 0, 0])"
      ]
     },
     "execution_count": 12,
     "metadata": {},
     "output_type": "execute_result"
    }
   ],
   "source": [
    "#Probability weights can be given\n",
    "np.random.choice(4,12,p=[.4,.1,.1,.4])"
   ]
  },
  {
   "cell_type": "code",
   "execution_count": 16,
   "metadata": {},
   "outputs": [
    {
     "data": {
      "text/plain": [
       "array([[6, 4, 4, 7, 0, 0, 9, 8, 8, 4, 8, 6],\n",
       "       [1, 6, 8, 7, 9, 1, 7, 1, 7, 9, 8, 7],\n",
       "       [1, 3, 1, 8, 7, 5, 1, 2, 5, 2, 2, 9],\n",
       "       [3, 2, 6, 7, 9, 1, 3, 8, 3, 7, 9, 9],\n",
       "       [3, 3, 5, 6, 0, 8, 7, 7, 4, 4, 5, 0],\n",
       "       [8, 9, 2, 5, 1, 5, 9, 2, 4, 3, 0, 3],\n",
       "       [7, 7, 2, 5, 1, 7, 5, 9, 1, 2, 8, 5],\n",
       "       [0, 9, 3, 3, 3, 1, 7, 6, 3, 1, 7, 2]])"
      ]
     },
     "execution_count": 16,
     "metadata": {},
     "output_type": "execute_result"
    }
   ],
   "source": [
    "x = np.random.randint(0,10,(8,12))\n",
    "x"
   ]
  },
  {
   "cell_type": "code",
   "execution_count": 17,
   "metadata": {},
   "outputs": [
    {
     "data": {
      "text/plain": [
       "array([3, 6, 0, 4, 9, 4, 3, 9, 1, 5, 3, 3])"
      ]
     },
     "execution_count": 17,
     "metadata": {},
     "output_type": "execute_result"
    }
   ],
   "source": [
    "#sampling individual elements\n",
    "np.random.choice(x.ravel(),12)"
   ]
  },
  {
   "cell_type": "code",
   "execution_count": null,
   "metadata": {
    "collapsed": true
   },
   "outputs": [],
   "source": []
  }
 ],
 "metadata": {
  "kernelspec": {
   "display_name": "Python 3",
   "language": "python",
   "name": "python3"
  },
  "language_info": {
   "codemirror_mode": {
    "name": "ipython",
    "version": 3
   },
   "file_extension": ".py",
   "mimetype": "text/x-python",
   "name": "python",
   "nbconvert_exporter": "python",
   "pygments_lexer": "ipython3",
   "version": "3.6.3"
  }
 },
 "nbformat": 4,
 "nbformat_minor": 2
}
