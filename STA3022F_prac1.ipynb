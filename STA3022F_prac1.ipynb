{
 "cells": [
  {
   "cell_type": "code",
   "execution_count": 1,
   "metadata": {
    "collapsed": true
   },
   "outputs": [],
   "source": [
    "import numpy as np, pandas as pd, matplotlib.pyplot as plt, csv, matplotlib.mlab as ml\n",
    "import statsmodels.formula.api as smf\n",
    "%matplotlib inline"
   ]
  },
  {
   "cell_type": "markdown",
   "metadata": {},
   "source": [
    "Analysis of Variance-Covariance"
   ]
  },
  {
   "cell_type": "code",
   "execution_count": 2,
   "metadata": {},
   "outputs": [
    {
     "name": "stdout",
     "output_type": "stream",
     "text": [
      "     price  size  roomnumber  bathnumber              area      view  agency  \\\n",
      "0   1395.0    81         1.0           1  AtlanticSeaBoard       sea  Agency   \n",
      "1   1399.0    86         1.0           2  AtlanticSeaBoard       sea  Agency   \n",
      "2   1295.0    70         1.0           1  AtlanticSeaBoard        no  Agency   \n",
      "3   1295.0    62         1.0           1  AtlanticSeaBoard        no  Agency   \n",
      "4    985.0    53         1.0           1  AtlanticSeaBoard        no  Agency   \n",
      "5   1295.0    79         1.0           1  AtlanticSeaBoard        no  Agency   \n",
      "6   1395.0    81         1.0           1  AtlanticSeaBoard        no  Agency   \n",
      "7   2250.0    86         1.0           1  AtlanticSeaBoard       sea  Agency   \n",
      "8    900.0    61         1.0           1  AtlanticSeaBoard  mountain  Agency   \n",
      "9   1350.0    52         1.0           1  AtlanticSeaBoard  mountain  Agency   \n",
      "10  1495.0    74         1.0           1  AtlanticSeaBoard  mountain  Agency   \n",
      "11  2395.0    92         1.0           1  AtlanticSeaBoard       sea  Agency   \n",
      "12  1900.0    84         1.0           1  AtlanticSeaBoard  mountain  Agency   \n",
      "13  1299.0    70         1.0           1  AtlanticSeaBoard  mountain  Agency   \n",
      "14  1795.0    61         1.0           1  AtlanticSeaBoard  mountain  Agency   \n",
      "15  1295.0    79         1.0           1  AtlanticSeaBoard        no  Agency   \n",
      "16  4500.0   144         1.0           1  AtlanticSeaBoard        no  Agency   \n",
      "17  4500.0   144         1.0           1  AtlanticSeaBoard        no  Agency   \n",
      "18  2400.0    95         1.0           1  AtlanticSeaBoard        no  Agency   \n",
      "19  2395.0    95         1.0           1  AtlanticSeaBoard        no  Agency   \n",
      "20  1850.0    83         1.0           1  AtlanticSeaBoard        no  Agency   \n",
      "21  2395.0    95         1.0           1  AtlanticSeaBoard       sea  Agency   \n",
      "22  1795.0    92         1.0           1  AtlanticSeaBoard        no  Agency   \n",
      "23   900.0    62         1.0           1  AtlanticSeaBoard        no  Agency   \n",
      "24  1250.0    69         1.0           1  AtlanticSeaBoard        no  Agency   \n",
      "25  1650.0    63         1.0           1  AtlanticSeaBoard        no  Agency   \n",
      "26  1495.0    74         1.0           1  AtlanticSeaBoard       sea  Agency   \n",
      "27  2200.0    62         1.0           1  AtlanticSeaBoard        no  Agency   \n",
      "28  1650.0    76         1.0           1  AtlanticSeaBoard        no  Agency   \n",
      "29  1495.0    64         1.0           1  AtlanticSeaBoard  mountain  Agency   \n",
      "..     ...   ...         ...         ...               ...       ...     ...   \n",
      "68  4450.0   156         3.0           2  AtlanticSeaBoard  mountain  Agency   \n",
      "69  3500.0   141         3.0           3  AtlanticSeaBoard       sea  Agency   \n",
      "70  1400.0   101         3.0           2  AtlanticSeaBoard        no   owner   \n",
      "71  5995.0   159         3.0           2  AtlanticSeaBoard       sea  Agency   \n",
      "72  6500.0   160         3.0           2  AtlanticSeaBoard       sea  Agency   \n",
      "73  2800.0   102         2.0           2  AtlanticSeaBoard       sea  Agency   \n",
      "74  2900.0    90         2.0           2  AtlanticSeaBoard  mountain  Agency   \n",
      "75  1250.0    67         2.0           1  AtlanticSeaBoard        no  Agency   \n",
      "76  1550.0    73         2.0           1  AtlanticSeaBoard       sea  Agency   \n",
      "77  1450.0    85         2.0           2  AtlanticSeaBoard  mountain  Agency   \n",
      "78   995.0    75         2.0           2   NorthernSuburbs  mountain   owner   \n",
      "79   680.0    79         2.0           2   NorthernSuburbs  mountain  Agency   \n",
      "80   420.0    42         2.0           1   NorthernSuburbs        no  Agency   \n",
      "81   425.0    60         1.0           1   NorthernSuburbs        no  Agency   \n",
      "82   499.5    40         2.0           1   NorthernSuburbs        no  Agency   \n",
      "83   556.0    51         2.0           1   NorthernSuburbs        no  Agency   \n",
      "84   620.0    64         2.0           1   NorthernSuburbs  mountain  Agency   \n",
      "85   620.0    61         2.0           1   NorthernSuburbs        no  Agency   \n",
      "86   350.0    55         1.0           1   NorthernSuburbs        no  Agency   \n",
      "87   660.0    53         2.0           1   NorthernSuburbs  mountain  Agency   \n",
      "88   620.0    83         2.0           1   NorthernSuburbs        no  Agency   \n",
      "89   450.0    50         2.0           1   NorthernSuburbs        no  Agency   \n",
      "90   499.0    50         2.0           1   NorthernSuburbs        no  Agency   \n",
      "91   485.0    57         1.0           1   NorthernSuburbs        no  Agency   \n",
      "92   895.0   149         3.0           1   NorthernSuburbs  mountain  Agency   \n",
      "93   485.0    57         1.0           1   NorthernSuburbs        no  Agency   \n",
      "94   300.0    33         0.5           1   NorthernSuburbs        no  Agency   \n",
      "95   490.0    85         2.0           1   NorthernSuburbs        no  Agency   \n",
      "96   695.0    64         2.0           1   NorthernSuburbs  mountain  Agency   \n",
      "97   749.0    65         2.0           1   NorthernSuburbs  mountain  Agency   \n",
      "\n",
      "          parking       type    shops balcony furnished          pets  \\\n",
      "0   secureparking  apartment  walking     yes        no  notmentioned   \n",
      "1   secureparking  apartment       no      no        no  notmentioned   \n",
      "2   secureparking  apartment  walking      no       yes  notmentioned   \n",
      "3          street  apartment  walking     yes      half  notmentioned   \n",
      "4   secureparking  apartment       no     yes        no      friendly   \n",
      "5   secureparking  apartment       no      no      half  notmentioned   \n",
      "6   secureparking  apartment       no     yes        no  notmentioned   \n",
      "7   secureparking  apartment  walking     yes        no  notmentioned   \n",
      "8          street  apartment       no      no        no  notmentioned   \n",
      "9   secureparking  apartment       no      no        no      friendly   \n",
      "10         street  apartment  walking     yes        no  notmentioned   \n",
      "11  secureparking  apartment       no     yes      half  notmentioned   \n",
      "12  secureparking  apartment       no     yes        no  notmentioned   \n",
      "13  secureparking  apartment  walking      no        no  notmentioned   \n",
      "14  secureparking  apartment  walking     yes        no  notmentioned   \n",
      "15  secureparking  apartment       no      no       yes  notmentioned   \n",
      "16  secureparking  apartment  walking     yes        no  notmentioned   \n",
      "17  secureparking  apartment  walking     yes      half  notmentioned   \n",
      "18         street  apartment  walking     yes       yes  notmentioned   \n",
      "19         street  apartment       no     yes        no  notmentioned   \n",
      "20         street  apartment       no     yes        no  notmentioned   \n",
      "21  secureparking  apartment       no     yes        no  notmentioned   \n",
      "22  secureparking  apartment       no     yes        no      friendly   \n",
      "23         street  apartment  walking      no        no  notmentioned   \n",
      "24  secureparking  apartment       no      no        no  notmentioned   \n",
      "25         street  apartment  walking      no        no  notmentioned   \n",
      "26  secureparking  apartment  walking      no        no  notmentioned   \n",
      "27         street  apartment  walking      no        no  notmentioned   \n",
      "28  secureparking  apartment       no     yes       yes  notmentioned   \n",
      "29  secureparking  apartment  walking     yes        no  notmentioned   \n",
      "..            ...        ...      ...     ...       ...           ...   \n",
      "68  secureparking  apartment       no     yes        no  notmentioned   \n",
      "69  secureparking  apartment  walking     yes        no  notmentioned   \n",
      "70  secureparking  apartment  walking      no        no  notmentioned   \n",
      "71  secureparking  apartment       no      no        no  notmentioned   \n",
      "72  secureparking  apartment       no      no        no  notmentioned   \n",
      "73         street  apartment       no      no        no  notmentioned   \n",
      "74  secureparking  apartment       no      no        no  notmentioned   \n",
      "75  secureparking  apartment       no     yes        no  notmentioned   \n",
      "76  secureparking  apartment       no      no        no  notmentioned   \n",
      "77         street  apartment       no      no        no  notmentioned   \n",
      "78  secureparking  apartment       no     yes        no  notmentioned   \n",
      "79  secureparking  apartment       no     yes        no  notmentioned   \n",
      "80  secureparking  apartment       no      no        no  notmentioned   \n",
      "81  secureparking  apartment  walking      no        no  notmentioned   \n",
      "82         street  apartment       no      no        no  notmentioned   \n",
      "83  secureparking  apartment       no      no        no  notmentioned   \n",
      "84  secureparking  apartment       no      no      half  notmentioned   \n",
      "85  secureparking  apartment       no      no      half  notmentioned   \n",
      "86         street  apartment       no      no        no  notmentioned   \n",
      "87  secureparking  apartment  walking      no        no  notmentioned   \n",
      "88  secureparking  apartment       no     yes        no  notmentioned   \n",
      "89  secureparking  apartment       no      no        no  notmentioned   \n",
      "90  secureparking  apartment       no      no        no  notmentioned   \n",
      "91  secureparking  apartment       no     yes        no  notmentioned   \n",
      "92  secureparking  apartment       no      no        no  notmentioned   \n",
      "93  secureparking  apartment       no     yes        no  notmentioned   \n",
      "94  secureparking  apartment       no      no        no  notmentioned   \n",
      "95         street  apartment       no     yes        no  notmentioned   \n",
      "96         street  apartment       no      no        no  notmentioned   \n",
      "97         street  apartment       no      no        no  notmentioned   \n",
      "\n",
      "   security GymPool      Location  \n",
      "0        no      no      SeaPoint  \n",
      "1        no      no      SeaPoint  \n",
      "2        no      no    GreenPoint  \n",
      "3        no      no   DeWaterkant  \n",
      "4        no      no      SeaPoint  \n",
      "5    24hour     yes      SeaPoint  \n",
      "6    24hour      no     BeachRoad  \n",
      "7        no      no  MouillePoint  \n",
      "8    24hour      no      SeaPoint  \n",
      "9    24hour      no   DeWaterkant  \n",
      "10   24hour     yes    GreenPoint  \n",
      "11       no      no      SeaPoint  \n",
      "12   24hour     yes   DeWaterkant  \n",
      "13   24hour      no   DeWaterkant  \n",
      "14   24hour      no    GreenPoint  \n",
      "15   24hour      no      SeaPoint  \n",
      "16       no     yes    GreenPoint  \n",
      "17       no      no    GreenPoint  \n",
      "18       no     yes    GreenPoint  \n",
      "19   24hour     yes    GreenPoint  \n",
      "20   24hour     yes    GreenPoint  \n",
      "21       no      no      SeaPoint  \n",
      "22       no      no      SeaPoint  \n",
      "23       no      no      SeaPoint  \n",
      "24       no      no    GreenPoint  \n",
      "25       no      no      SeaPoint  \n",
      "26       no      no  MouillePoint  \n",
      "27   24hour     yes    GreenPoint  \n",
      "28       no      no    GreenPoint  \n",
      "29   24hour     yes   DeWaterkant  \n",
      "..      ...     ...           ...  \n",
      "68   24hour      no  MouillePoint  \n",
      "69   24hour     yes   DeWaterkant  \n",
      "70   24hour      no      SeaPoint  \n",
      "71       no     yes       Houtbay  \n",
      "72       no      no       Houtbay  \n",
      "73   24hour     yes      CampsBay  \n",
      "74       no      no   DeWaterkant  \n",
      "75       no      no      SeaPoint  \n",
      "76   24hour      no   DeWaterkant  \n",
      "77       no      no      SeaPoint  \n",
      "78   24hour     yes   Durbanville  \n",
      "79   24hour      no   Brackenfell  \n",
      "80       no      no   Brackenfell  \n",
      "81   24hour      no   Brackenfell  \n",
      "82       no      no    KuilsRiver  \n",
      "83       no      no   Durbanville  \n",
      "84   24hour      no   Durbanville  \n",
      "85   24hour      no   Durbanville  \n",
      "86   24hour      no         Parow  \n",
      "87   24hour      no      Belville  \n",
      "88   24hour      no      Goodwood  \n",
      "89   24hour      no         Parow  \n",
      "90   24hour      no      Goodwood  \n",
      "91       no      no      Goodwood  \n",
      "92       no      no      Goodwood  \n",
      "93   24hour      no      Goodwood  \n",
      "94   24hour      no         Parow  \n",
      "95   24hour      no         Parow  \n",
      "96   24hour     yes         Parow  \n",
      "97       no      no   Durbanville  \n",
      "\n",
      "[98 rows x 16 columns]\n"
     ]
    }
   ],
   "source": [
    "houseprices = pd.read_csv(\"/Users/thabokopane/Documents/STA3022F/practicals/prac1/houseprices.csv\")\n",
    "print(houseprices)"
   ]
  },
  {
   "cell_type": "code",
   "execution_count": 3,
   "metadata": {
    "collapsed": true
   },
   "outputs": [],
   "source": [
    "price = houseprices['price']\n",
    "area = houseprices['area']\n",
    "security = houseprices['security']"
   ]
  },
  {
   "cell_type": "markdown",
   "metadata": {},
   "source": [
    "One way anova with treament variable area"
   ]
  },
  {
   "cell_type": "code",
   "execution_count": 4,
   "metadata": {},
   "outputs": [
    {
     "name": "stdout",
     "output_type": "stream",
     "text": [
      "                            OLS Regression Results                            \n",
      "==============================================================================\n",
      "Dep. Variable:                  price   R-squared:                       0.257\n",
      "Model:                            OLS   Adj. R-squared:                  0.241\n",
      "Method:                 Least Squares   F-statistic:                     16.44\n",
      "Date:                Sat, 21 Apr 2018   Prob (F-statistic):           7.39e-07\n",
      "Time:                        19:29:25   Log-Likelihood:                -815.57\n",
      "No. Observations:                  98   AIC:                             1637.\n",
      "Df Residuals:                      95   BIC:                             1645.\n",
      "Df Model:                           2                                         \n",
      "Covariance Type:            nonrobust                                         \n",
      "==============================================================================================\n",
      "                                 coef    std err          t      P>|t|      [0.025      0.975]\n",
      "----------------------------------------------------------------------------------------------\n",
      "Intercept                   2104.2745    141.577     14.863      0.000    1823.208    2385.341\n",
      "C(area)[T.CityBowl]         -424.2004    240.635     -1.763      0.081    -901.922      53.521\n",
      "C(area)[T.NorthernSuburbs] -1529.5995    266.752     -5.734      0.000   -2059.170   -1000.029\n",
      "==============================================================================\n",
      "Omnibus:                       57.506   Durbin-Watson:                   1.222\n",
      "Prob(Omnibus):                  0.000   Jarque-Bera (JB):              187.611\n",
      "Skew:                           2.105   Prob(JB):                     1.82e-41\n",
      "Kurtosis:                       8.313   Cond. No.                         3.23\n",
      "==============================================================================\n",
      "\n",
      "Warnings:\n",
      "[1] Standard Errors assume that the covariance matrix of the errors is correctly specified.\n"
     ]
    }
   ],
   "source": [
    "model = smf.ols(formula='price ~ C(area)', data=houseprices)\n",
    "results = model.fit()\n",
    "print(results.summary())"
   ]
  },
  {
   "cell_type": "markdown",
   "metadata": {},
   "source": [
    "One way anova with treatment variable security"
   ]
  },
  {
   "cell_type": "code",
   "execution_count": 5,
   "metadata": {},
   "outputs": [
    {
     "name": "stdout",
     "output_type": "stream",
     "text": [
      "                            OLS Regression Results                            \n",
      "==============================================================================\n",
      "Dep. Variable:                  price   R-squared:                       0.030\n",
      "Model:                            OLS   Adj. R-squared:                  0.020\n",
      "Method:                 Least Squares   F-statistic:                     2.985\n",
      "Date:                Sat, 21 Apr 2018   Prob (F-statistic):             0.0873\n",
      "Time:                        19:29:25   Log-Likelihood:                -828.63\n",
      "No. Observations:                  98   AIC:                             1661.\n",
      "Df Residuals:                      96   BIC:                             1666.\n",
      "Df Model:                           1                                         \n",
      "Covariance Type:            nonrobust                                         \n",
      "=====================================================================================\n",
      "                        coef    std err          t      P>|t|      [0.025      0.975]\n",
      "-------------------------------------------------------------------------------------\n",
      "Intercept          1470.5417    165.874      8.865      0.000    1141.285    1799.799\n",
      "C(security)[T.no]   401.2083    232.223      1.728      0.087     -59.751     862.168\n",
      "==============================================================================\n",
      "Omnibus:                       46.110   Durbin-Watson:                   0.900\n",
      "Prob(Omnibus):                  0.000   Jarque-Bera (JB):              109.093\n",
      "Skew:                           1.805   Prob(JB):                     2.05e-24\n",
      "Kurtosis:                       6.699   Cond. No.                         2.64\n",
      "==============================================================================\n",
      "\n",
      "Warnings:\n",
      "[1] Standard Errors assume that the covariance matrix of the errors is correctly specified.\n"
     ]
    }
   ],
   "source": [
    "model2 = smf.ols(formula='price ~C(security)', data=houseprices)\n",
    "print(model2.fit().summary())"
   ]
  },
  {
   "cell_type": "markdown",
   "metadata": {},
   "source": [
    "post hoc tes for mean differences"
   ]
  },
  {
   "cell_type": "code",
   "execution_count": 6,
   "metadata": {},
   "outputs": [
    {
     "name": "stdout",
     "output_type": "stream",
     "text": [
      "           Multiple Comparison of Means - Tukey HSD,FWER=0.05          \n",
      "=======================================================================\n",
      "     group1           group2      meandiff    lower      upper   reject\n",
      "-----------------------------------------------------------------------\n",
      "AtlanticSeaBoard     CityBowl    -424.2004  -997.1804   148.7795 False \n",
      "AtlanticSeaBoard NorthernSuburbs -1529.5995 -2164.7669 -894.4321  True \n",
      "    CityBowl     NorthernSuburbs -1105.3991 -1815.6489 -395.1492  True \n",
      "-----------------------------------------------------------------------\n"
     ]
    }
   ],
   "source": [
    "import statsmodels.stats.multicomp as multi\n",
    "\n",
    "test = multi.MultiComparison(price, area)\n",
    "print(test.tukeyhsd().summary())"
   ]
  },
  {
   "cell_type": "markdown",
   "metadata": {
    "collapsed": true
   },
   "source": [
    "ANova 2way"
   ]
  },
  {
   "cell_type": "code",
   "execution_count": 7,
   "metadata": {},
   "outputs": [
    {
     "name": "stdout",
     "output_type": "stream",
     "text": [
      "                            OLS Regression Results                            \n",
      "==============================================================================\n",
      "Dep. Variable:                  price   R-squared:                       0.261\n",
      "Model:                            OLS   Adj. R-squared:                  0.238\n",
      "Method:                 Least Squares   F-statistic:                     11.07\n",
      "Date:                Sat, 21 Apr 2018   Prob (F-statistic):           2.73e-06\n",
      "Time:                        19:29:25   Log-Likelihood:                -815.31\n",
      "No. Observations:                  98   AIC:                             1639.\n",
      "Df Residuals:                      94   BIC:                             1649.\n",
      "Df Model:                           3                                         \n",
      "Covariance Type:            nonrobust                                         \n",
      "===========================================================================================\n",
      "                              coef    std err          t      P>|t|      [0.025      0.975]\n",
      "-------------------------------------------------------------------------------------------\n",
      "Intercept                2016.1371    188.182     10.714      0.000    1642.497    2389.777\n",
      "area[T.CityBowl]         -413.7545    241.704     -1.712      0.090    -893.663      66.154\n",
      "area[T.NorthernSuburbs] -1486.4122    274.211     -5.421      0.000   -2030.864    -941.960\n",
      "security[T.no]            149.8337    210.032      0.713      0.477    -267.190     566.857\n",
      "==============================================================================\n",
      "Omnibus:                       55.989   Durbin-Watson:                   1.202\n",
      "Prob(Omnibus):                  0.000   Jarque-Bera (JB):              175.423\n",
      "Skew:                           2.062   Prob(JB):                     8.08e-39\n",
      "Kurtosis:                       8.094   Cond. No.                         3.96\n",
      "==============================================================================\n",
      "\n",
      "Warnings:\n",
      "[1] Standard Errors assume that the covariance matrix of the errors is correctly specified.\n"
     ]
    }
   ],
   "source": [
    "model3 = smf.ols(formula='price~area+security',data=houseprices)\n",
    "print(model3.fit().summary())"
   ]
  },
  {
   "cell_type": "markdown",
   "metadata": {},
   "source": [
    "two way anova with interaction"
   ]
  },
  {
   "cell_type": "code",
   "execution_count": 8,
   "metadata": {},
   "outputs": [
    {
     "name": "stdout",
     "output_type": "stream",
     "text": [
      "                            OLS Regression Results                            \n",
      "==============================================================================\n",
      "Dep. Variable:                  price   R-squared:                       0.269\n",
      "Model:                            OLS   Adj. R-squared:                  0.229\n",
      "Method:                 Least Squares   F-statistic:                     6.763\n",
      "Date:                Sat, 21 Apr 2018   Prob (F-statistic):           2.07e-05\n",
      "Time:                        19:29:25   Log-Likelihood:                -814.80\n",
      "No. Observations:                  98   AIC:                             1642.\n",
      "Df Residuals:                      92   BIC:                             1657.\n",
      "Df Model:                           5                                         \n",
      "Covariance Type:            nonrobust                                         \n",
      "==========================================================================================================\n",
      "                                             coef    std err          t      P>|t|      [0.025      0.975]\n",
      "----------------------------------------------------------------------------------------------------------\n",
      "Intercept                               1905.4286    222.436      8.566      0.000    1463.651    2347.207\n",
      "area[T.CityBowl]                        -160.5824    359.728     -0.446      0.656    -875.032     553.868\n",
      "area[T.NorthernSuburbs]                -1341.9286    351.703     -3.816      0.000   -2040.441    -643.416\n",
      "security[T.no]                           338.0381    290.022      1.166      0.247    -237.970     914.046\n",
      "area[T.CityBowl]:security[T.no]         -462.9557    488.114     -0.948      0.345   -1432.393     506.481\n",
      "area[T.NorthernSuburbs]:security[T.no]  -300.7881    575.763     -0.522      0.603   -1444.302     842.726\n",
      "==============================================================================\n",
      "Omnibus:                       53.940   Durbin-Watson:                   1.171\n",
      "Prob(Omnibus):                  0.000   Jarque-Bera (JB):              158.675\n",
      "Skew:                           2.011   Prob(JB):                     3.50e-35\n",
      "Kurtosis:                       7.763   Cond. No.                         8.72\n",
      "==============================================================================\n",
      "\n",
      "Warnings:\n",
      "[1] Standard Errors assume that the covariance matrix of the errors is correctly specified.\n"
     ]
    }
   ],
   "source": [
    "anovaInteract = smf.ols(formula='price~area+security+area:security', data=houseprices)\n",
    "print(anovaInteract.fit().summary())"
   ]
  },
  {
   "cell_type": "markdown",
   "metadata": {},
   "source": [
    "We are now fgoing to do the Ancova as it may"
   ]
  },
  {
   "cell_type": "code",
   "execution_count": 9,
   "metadata": {},
   "outputs": [
    {
     "name": "stdout",
     "output_type": "stream",
     "text": [
      "                            OLS Regression Results                            \n",
      "==============================================================================\n",
      "Dep. Variable:                  price   R-squared:                       0.752\n",
      "Model:                            OLS   Adj. R-squared:                  0.742\n",
      "Method:                 Least Squares   F-statistic:                     70.66\n",
      "Date:                Sat, 21 Apr 2018   Prob (F-statistic):           2.31e-27\n",
      "Time:                        19:29:25   Log-Likelihood:                -761.73\n",
      "No. Observations:                  98   AIC:                             1533.\n",
      "Df Residuals:                      93   BIC:                             1546.\n",
      "Df Model:                           4                                         \n",
      "Covariance Type:            nonrobust                                         \n",
      "===========================================================================================\n",
      "                              coef    std err          t      P>|t|      [0.025      0.975]\n",
      "-------------------------------------------------------------------------------------------\n",
      "Intercept                -353.5415    205.955     -1.717      0.089    -762.528      55.445\n",
      "area[T.CityBowl]         -328.4682    140.798     -2.333      0.022    -608.065     -48.871\n",
      "area[T.NorthernSuburbs]  -837.2086    166.577     -5.026      0.000   -1167.997    -506.420\n",
      "security[T.no]            165.0884    122.232      1.351      0.180     -77.640     407.817\n",
      "size                       26.9583      1.984     13.585      0.000      23.018      30.899\n",
      "==============================================================================\n",
      "Omnibus:                       27.935   Durbin-Watson:                   1.743\n",
      "Prob(Omnibus):                  0.000   Jarque-Bera (JB):              104.398\n",
      "Skew:                           0.817   Prob(JB):                     2.14e-23\n",
      "Kurtosis:                       7.785   Cond. No.                         359.\n",
      "==============================================================================\n",
      "\n",
      "Warnings:\n",
      "[1] Standard Errors assume that the covariance matrix of the errors is correctly specified.\n"
     ]
    }
   ],
   "source": [
    "model4 = smf.ols(formula='price~area+security+size', data=houseprices)\n",
    "print(model4.fit().summary())"
   ]
  },
  {
   "cell_type": "markdown",
   "metadata": {},
   "source": [
    "Multiples linear regression and shit"
   ]
  },
  {
   "cell_type": "code",
   "execution_count": 10,
   "metadata": {},
   "outputs": [
    {
     "name": "stdout",
     "output_type": "stream",
     "text": [
      "                            OLS Regression Results                            \n",
      "==============================================================================\n",
      "Dep. Variable:                  price   R-squared:                       0.753\n",
      "Model:                            OLS   Adj. R-squared:                  0.737\n",
      "Method:                 Least Squares   F-statistic:                     46.29\n",
      "Date:                Sat, 21 Apr 2018   Prob (F-statistic):           1.43e-25\n",
      "Time:                        19:29:26   Log-Likelihood:                -761.58\n",
      "No. Observations:                  98   AIC:                             1537.\n",
      "Df Residuals:                      91   BIC:                             1555.\n",
      "Df Model:                           6                                         \n",
      "Covariance Type:            nonrobust                                         \n",
      "===========================================================================================\n",
      "                              coef    std err          t      P>|t|      [0.025      0.975]\n",
      "-------------------------------------------------------------------------------------------\n",
      "Intercept                -327.8792    215.200     -1.524      0.131    -755.347      99.589\n",
      "area[T.CityBowl]         -315.5331    145.734     -2.165      0.033    -605.016     -26.051\n",
      "area[T.NorthernSuburbs]  -821.0789    179.026     -4.586      0.000   -1176.691    -465.467\n",
      "security[T.no]            160.4829    123.908      1.295      0.199     -85.645     406.611\n",
      "size                       27.8600      2.634     10.577      0.000      22.628      33.092\n",
      "roomnumber                -27.6128    115.599     -0.239      0.812    -257.236     202.011\n",
      "bathnumber                -44.3524    174.691     -0.254      0.800    -391.354     302.649\n",
      "==============================================================================\n",
      "Omnibus:                       28.264   Durbin-Watson:                   1.735\n",
      "Prob(Omnibus):                  0.000   Jarque-Bera (JB):              112.162\n",
      "Skew:                           0.804   Prob(JB):                     4.41e-25\n",
      "Kurtosis:                       7.988   Cond. No.                         374.\n",
      "==============================================================================\n",
      "\n",
      "Warnings:\n",
      "[1] Standard Errors assume that the covariance matrix of the errors is correctly specified.\n"
     ]
    }
   ],
   "source": [
    "modelRegression = smf.ols(formula='price~area+security+size+roomnumber+bathnumber', data=houseprices)\n",
    "print(modelRegression.fit().summary())"
   ]
  },
  {
   "cell_type": "markdown",
   "metadata": {},
   "source": [
    "I am goind to standardize some data bitches"
   ]
  },
  {
   "cell_type": "code",
   "execution_count": 11,
   "metadata": {
    "collapsed": true
   },
   "outputs": [],
   "source": [
    "def standardization(data):\n",
    "    stdMean = data.mean()\n",
    "    stdDev = data.std()\n",
    "    \n",
    "    standardized = (data-stdMean)/stdDev\n",
    "    \n",
    "    return standardized"
   ]
  },
  {
   "cell_type": "code",
   "execution_count": 12,
   "metadata": {
    "collapsed": true
   },
   "outputs": [],
   "source": [
    "scaled_size = standardization(houseprices['size'])\n",
    "scaled_roomN = standardization(houseprices['roomnumber'])\n",
    "scaled_bathN = standardization(houseprices['bathnumber'])\n",
    "scaledPrice = standardization(houseprices['price'])"
   ]
  },
  {
   "cell_type": "code",
   "execution_count": 13,
   "metadata": {},
   "outputs": [
    {
     "name": "stdout",
     "output_type": "stream",
     "text": [
      "                            OLS Regression Results                            \n",
      "==============================================================================\n",
      "Dep. Variable:           scale(price)   R-squared:                       0.682\n",
      "Model:                            OLS   Adj. R-squared:                  0.671\n",
      "Method:                 Least Squares   F-statistic:                     67.08\n",
      "Date:                Sat, 21 Apr 2018   Prob (F-statistic):           2.82e-23\n",
      "Time:                        19:29:26   Log-Likelihood:                -82.977\n",
      "No. Observations:                  98   AIC:                             174.0\n",
      "Df Residuals:                      94   BIC:                             184.3\n",
      "Df Model:                           3                                         \n",
      "Covariance Type:            nonrobust                                         \n",
      "=====================================================================================\n",
      "                        coef    std err          t      P>|t|      [0.025      0.975]\n",
      "-------------------------------------------------------------------------------------\n",
      "Intercept         -3.469e-18      0.058  -5.96e-17      1.000      -0.116       0.116\n",
      "scale(size)           0.8745      0.076     11.515      0.000       0.724       1.025\n",
      "scale(roomnumber)    -0.1544      0.080     -1.929      0.057      -0.313       0.005\n",
      "scale(bathnumber)     0.0352      0.088      0.399      0.691      -0.140       0.210\n",
      "==============================================================================\n",
      "Omnibus:                       18.921   Durbin-Watson:                   1.409\n",
      "Prob(Omnibus):                  0.000   Jarque-Bera (JB):               81.867\n",
      "Skew:                           0.343   Prob(JB):                     1.67e-18\n",
      "Kurtosis:                       7.425   Cond. No.                         2.74\n",
      "==============================================================================\n",
      "\n",
      "Warnings:\n",
      "[1] Standard Errors assume that the covariance matrix of the errors is correctly specified.\n"
     ]
    }
   ],
   "source": [
    "#scaled anova\n",
    "\n",
    "modelStandard = smf.ols(formula='scale(price)~scale(size)+scale(roomnumber)+scale(bathnumber)',data=houseprices)\n",
    "print(modelStandard.fit().summary())"
   ]
  },
  {
   "cell_type": "markdown",
   "metadata": {},
   "source": [
    "Stepwise regression now"
   ]
  },
  {
   "cell_type": "code",
   "execution_count": null,
   "metadata": {
    "collapsed": true
   },
   "outputs": [],
   "source": []
  }
 ],
 "metadata": {
  "kernelspec": {
   "display_name": "Python 3",
   "language": "python",
   "name": "python3"
  },
  "language_info": {
   "codemirror_mode": {
    "name": "ipython",
    "version": 3
   },
   "file_extension": ".py",
   "mimetype": "text/x-python",
   "name": "python",
   "nbconvert_exporter": "python",
   "pygments_lexer": "ipython3",
   "version": "3.6.3"
  }
 },
 "nbformat": 4,
 "nbformat_minor": 2
}
